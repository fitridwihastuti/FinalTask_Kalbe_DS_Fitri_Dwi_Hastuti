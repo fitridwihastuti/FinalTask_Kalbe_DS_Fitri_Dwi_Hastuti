{
 "cells": [
  {
   "cell_type": "markdown",
   "id": "ba397e79",
   "metadata": {},
   "source": [
    "Oleh : Fitri Dwi Hastuti"
   ]
  },
  {
   "cell_type": "markdown",
   "id": "7a69c8d7",
   "metadata": {},
   "source": [
    "Ini merupakan Project Based Intern yang diselenggarakan oleh Rakamin Academy X Kalbe Nutritionals. Final projek yang diberikan untuk memprediksi jumlah quantity harian menggunakan model regresi time series ARIMA dan klastering pelanggan menggunakan model KMeans."
   ]
  },
  {
   "cell_type": "markdown",
   "id": "9de235af",
   "metadata": {},
   "source": [
    "Dataset dalam projek ini terdiri dari 4 tabel yaitu customer, produk, store, dan transaksi."
   ]
  },
  {
   "cell_type": "markdown",
   "id": "1b6f2832",
   "metadata": {},
   "source": [
    "Model ARIMA (Autoregressive Integrated Moving Average) adalah model statistik yang digunakan untuk menganalisis dan meramalkan data deret waktu. Model ini terdiri dari tiga komponen utama: Autoregressive (AR), Integrated (I), dan Moving Average (MA).\n",
    "- Komponen Autoregressive (AR): Memperhatikan hubungan antara nilai sekarang dengan nilai sebelumnya.\n",
    "- Komponen Integrated (I): Menggunakan differencing untuk membuat data stasioner (tanpa tren atau pola).\n",
    "- Komponen Moving Average (MA): Memperhatikan pengaruh gangguan sebelumnya pada nilai sekarang.\n",
    "\n",
    "Untuk memeriksa stasioneritas data pada kasus ini digunakan pengujian Augmented Dickey-Fuller (ADF)."
   ]
  },
  {
   "cell_type": "markdown",
   "id": "f3c0aa2e",
   "metadata": {},
   "source": [
    "Model K-Means adalah salah satu teknik klastering yang digunakan dalam analisis data. Tujuan utama dari model K-Means adalah mengelompokkan data menjadi beberapa kelompok atau klaster berdasarkan kemiripan antara data. Model ini didasarkan pada algoritma klastering yang mencoba meminimalkan jarak antara data dalam satu klaster dan memaksimalkan jarak antara klaster. Pada kasus ini digunakan Elbow method untuk menentukan banyaknya klaster."
   ]
  },
  {
   "cell_type": "markdown",
   "id": "bd5b07b1",
   "metadata": {},
   "source": [
    "### Library"
   ]
  },
  {
   "cell_type": "code",
   "execution_count": 1,
   "id": "88599d17",
   "metadata": {},
   "outputs": [],
   "source": [
    "import pandas as pd\n",
    "import numpy as np\n",
    "import matplotlib.pyplot as plt\n",
    "import seaborn as sns\n",
    "\n",
    "from statsmodels.graphics.tsaplots import plot_acf, plot_pacf\n",
    "from statsmodels.tsa.stattools import adfuller\n",
    "from statsmodels.tsa.arima.model import ARIMA\n",
    "from pmdarima import auto_arima\n",
    "\n",
    "from sklearn.cluster import KMeans\n",
    "\n",
    "# Ignore harmless warnings\n",
    "import warnings\n",
    "warnings.filterwarnings(\"ignore\")"
   ]
  },
  {
   "cell_type": "markdown",
   "id": "28c6e968",
   "metadata": {},
   "source": [
    "### Import Dataset"
   ]
  },
  {
   "cell_type": "code",
   "execution_count": 2,
   "id": "e905f365",
   "metadata": {},
   "outputs": [
    {
     "name": "stdout",
     "output_type": "stream",
     "text": [
      "Sampel Tabel Customer\n",
      "     CustomerID  Age  Gender Marital Status  Income\n",
      "243         244   21       1         Single    3.64\n",
      "=============================================================================\n",
      "\n",
      "Sampel Tabel Produk\n",
      "  ProductID Product Name  Price\n",
      "7        P8          Oat  16000\n",
      "=============================================================================\n",
      "\n",
      "Sampel Tabel Store\n",
      "   StoreID         StoreName GroupStore          Type  Latitude   Longitude\n",
      "1        2  Prima Kelapa Dua      Prima  Modern Trade -6.914864  107.608238\n",
      "=============================================================================\n",
      "\n",
      "Sampel Tabel Transaksi\n",
      "    TransactionID  CustomerID        Date ProductID  Price  Qty  TotalAmount  \\\n",
      "712       TR15420         404  22/02/2022        P9  10000    4        40000   \n",
      "\n",
      "     StoreID  \n",
      "712       11  \n"
     ]
    }
   ],
   "source": [
    "customer = pd.read_csv('Case Study - Customer.csv')\n",
    "produk = pd.read_csv('Case Study - Product.csv')\n",
    "store = pd.read_csv('Case Study - Store.csv')\n",
    "transaksi = pd.read_csv('Case Study - Transaction.csv')\n",
    "print('Sampel Tabel Customer')\n",
    "print(customer.sample())\n",
    "print('=============================================================================')\n",
    "print('')\n",
    "print('Sampel Tabel Produk')\n",
    "print(produk.sample())\n",
    "print('=============================================================================')\n",
    "print('')\n",
    "print('Sampel Tabel Store')\n",
    "print(store.sample())\n",
    "print('=============================================================================')\n",
    "print('')\n",
    "print('Sampel Tabel Transaksi')\n",
    "print(transaksi.sample())"
   ]
  },
  {
   "cell_type": "markdown",
   "id": "a3e581c7",
   "metadata": {},
   "source": [
    "### Preprocessing Data"
   ]
  },
  {
   "cell_type": "code",
   "execution_count": 3,
   "id": "7ca9e694",
   "metadata": {},
   "outputs": [
    {
     "name": "stdout",
     "output_type": "stream",
     "text": [
      "Info Tabel Customer\n",
      "<class 'pandas.core.frame.DataFrame'>\n",
      "RangeIndex: 447 entries, 0 to 446\n",
      "Data columns (total 5 columns):\n",
      " #   Column          Non-Null Count  Dtype  \n",
      "---  ------          --------------  -----  \n",
      " 0   CustomerID      447 non-null    int64  \n",
      " 1   Age             447 non-null    int64  \n",
      " 2   Gender          447 non-null    int64  \n",
      " 3   Marital Status  444 non-null    object \n",
      " 4   Income          447 non-null    float64\n",
      "dtypes: float64(1), int64(3), object(1)\n",
      "memory usage: 17.6+ KB\n",
      "\n",
      "==============================================\n",
      "\n",
      "Info Tabel Produk\n",
      "<class 'pandas.core.frame.DataFrame'>\n",
      "RangeIndex: 10 entries, 0 to 9\n",
      "Data columns (total 3 columns):\n",
      " #   Column        Non-Null Count  Dtype \n",
      "---  ------        --------------  ----- \n",
      " 0   ProductID     10 non-null     object\n",
      " 1   Product Name  10 non-null     object\n",
      " 2   Price         10 non-null     int64 \n",
      "dtypes: int64(1), object(2)\n",
      "memory usage: 368.0+ bytes\n",
      "\n",
      "==============================================\n",
      "\n",
      "Info Tabel Store\n",
      "<class 'pandas.core.frame.DataFrame'>\n",
      "RangeIndex: 14 entries, 0 to 13\n",
      "Data columns (total 6 columns):\n",
      " #   Column      Non-Null Count  Dtype  \n",
      "---  ------      --------------  -----  \n",
      " 0   StoreID     14 non-null     int64  \n",
      " 1   StoreName   14 non-null     object \n",
      " 2   GroupStore  14 non-null     object \n",
      " 3   Type        14 non-null     object \n",
      " 4   Latitude    14 non-null     float64\n",
      " 5   Longitude   14 non-null     float64\n",
      "dtypes: float64(2), int64(1), object(3)\n",
      "memory usage: 800.0+ bytes\n",
      "\n",
      "==============================================\n",
      "\n",
      "Info Tabel Transaksi\n",
      "<class 'pandas.core.frame.DataFrame'>\n",
      "RangeIndex: 5020 entries, 0 to 5019\n",
      "Data columns (total 8 columns):\n",
      " #   Column         Non-Null Count  Dtype \n",
      "---  ------         --------------  ----- \n",
      " 0   TransactionID  5020 non-null   object\n",
      " 1   CustomerID     5020 non-null   int64 \n",
      " 2   Date           5020 non-null   object\n",
      " 3   ProductID      5020 non-null   object\n",
      " 4   Price          5020 non-null   int64 \n",
      " 5   Qty            5020 non-null   int64 \n",
      " 6   TotalAmount    5020 non-null   int64 \n",
      " 7   StoreID        5020 non-null   int64 \n",
      "dtypes: int64(5), object(3)\n",
      "memory usage: 313.9+ KB\n"
     ]
    }
   ],
   "source": [
    "print('Info Tabel Customer')\n",
    "customer.info()\n",
    "print('')\n",
    "print('==============================================')\n",
    "print('')\n",
    "print('Info Tabel Produk')\n",
    "produk.info()\n",
    "print('')\n",
    "print('==============================================')\n",
    "print('')\n",
    "print('Info Tabel Store')\n",
    "store.info()\n",
    "print('')\n",
    "print('==============================================')\n",
    "print('')\n",
    "print('Info Tabel Transaksi')\n",
    "transaksi.info()"
   ]
  },
  {
   "cell_type": "code",
   "execution_count": 4,
   "id": "dd373942",
   "metadata": {},
   "outputs": [
    {
     "data": {
      "text/html": [
       "<div>\n",
       "<style scoped>\n",
       "    .dataframe tbody tr th:only-of-type {\n",
       "        vertical-align: middle;\n",
       "    }\n",
       "\n",
       "    .dataframe tbody tr th {\n",
       "        vertical-align: top;\n",
       "    }\n",
       "\n",
       "    .dataframe thead th {\n",
       "        text-align: right;\n",
       "    }\n",
       "</style>\n",
       "<table border=\"1\" class=\"dataframe\">\n",
       "  <thead>\n",
       "    <tr style=\"text-align: right;\">\n",
       "      <th></th>\n",
       "      <th>TransactionID</th>\n",
       "      <th>CustomerID</th>\n",
       "      <th>Date</th>\n",
       "      <th>ProductID</th>\n",
       "      <th>Price_x</th>\n",
       "      <th>Qty</th>\n",
       "      <th>TotalAmount</th>\n",
       "      <th>StoreID</th>\n",
       "      <th>Age</th>\n",
       "      <th>Gender</th>\n",
       "      <th>Marital Status</th>\n",
       "      <th>Income</th>\n",
       "      <th>Product Name</th>\n",
       "      <th>Price_y</th>\n",
       "      <th>StoreName</th>\n",
       "      <th>GroupStore</th>\n",
       "      <th>Type</th>\n",
       "      <th>Latitude</th>\n",
       "      <th>Longitude</th>\n",
       "    </tr>\n",
       "  </thead>\n",
       "  <tbody>\n",
       "    <tr>\n",
       "      <th>0</th>\n",
       "      <td>TR11369</td>\n",
       "      <td>328</td>\n",
       "      <td>2022-01-01</td>\n",
       "      <td>P3</td>\n",
       "      <td>7500</td>\n",
       "      <td>4</td>\n",
       "      <td>30000</td>\n",
       "      <td>12</td>\n",
       "      <td>36</td>\n",
       "      <td>0</td>\n",
       "      <td>Married</td>\n",
       "      <td>10.53</td>\n",
       "      <td>Crackers</td>\n",
       "      <td>7500</td>\n",
       "      <td>Prestasi Utama</td>\n",
       "      <td>Prestasi</td>\n",
       "      <td>General Trade</td>\n",
       "      <td>-2.990934</td>\n",
       "      <td>104.756554</td>\n",
       "    </tr>\n",
       "    <tr>\n",
       "      <th>1311</th>\n",
       "      <td>TR99839</td>\n",
       "      <td>123</td>\n",
       "      <td>2022-01-01</td>\n",
       "      <td>P2</td>\n",
       "      <td>3200</td>\n",
       "      <td>6</td>\n",
       "      <td>19200</td>\n",
       "      <td>1</td>\n",
       "      <td>34</td>\n",
       "      <td>0</td>\n",
       "      <td>Married</td>\n",
       "      <td>4.36</td>\n",
       "      <td>Ginger Candy</td>\n",
       "      <td>3200</td>\n",
       "      <td>Prima Tendean</td>\n",
       "      <td>Prima</td>\n",
       "      <td>Modern Trade</td>\n",
       "      <td>-6.200000</td>\n",
       "      <td>106.816666</td>\n",
       "    </tr>\n",
       "    <tr>\n",
       "      <th>434</th>\n",
       "      <td>TR67455</td>\n",
       "      <td>49</td>\n",
       "      <td>2022-01-01</td>\n",
       "      <td>P5</td>\n",
       "      <td>4200</td>\n",
       "      <td>3</td>\n",
       "      <td>12600</td>\n",
       "      <td>13</td>\n",
       "      <td>44</td>\n",
       "      <td>1</td>\n",
       "      <td>Married</td>\n",
       "      <td>13.48</td>\n",
       "      <td>Thai Tea</td>\n",
       "      <td>4200</td>\n",
       "      <td>Buana</td>\n",
       "      <td>Buana</td>\n",
       "      <td>General Trade</td>\n",
       "      <td>-1.269160</td>\n",
       "      <td>116.825264</td>\n",
       "    </tr>\n",
       "    <tr>\n",
       "      <th>1275</th>\n",
       "      <td>TR16356</td>\n",
       "      <td>165</td>\n",
       "      <td>2022-01-01</td>\n",
       "      <td>P9</td>\n",
       "      <td>10000</td>\n",
       "      <td>7</td>\n",
       "      <td>70000</td>\n",
       "      <td>1</td>\n",
       "      <td>44</td>\n",
       "      <td>1</td>\n",
       "      <td>Married</td>\n",
       "      <td>14.58</td>\n",
       "      <td>Yoghurt</td>\n",
       "      <td>10000</td>\n",
       "      <td>Prima Tendean</td>\n",
       "      <td>Prima</td>\n",
       "      <td>Modern Trade</td>\n",
       "      <td>-6.200000</td>\n",
       "      <td>106.816666</td>\n",
       "    </tr>\n",
       "    <tr>\n",
       "      <th>4870</th>\n",
       "      <td>TR41231</td>\n",
       "      <td>386</td>\n",
       "      <td>2022-01-01</td>\n",
       "      <td>P9</td>\n",
       "      <td>10000</td>\n",
       "      <td>1</td>\n",
       "      <td>10000</td>\n",
       "      <td>4</td>\n",
       "      <td>33</td>\n",
       "      <td>0</td>\n",
       "      <td>Married</td>\n",
       "      <td>6.95</td>\n",
       "      <td>Yoghurt</td>\n",
       "      <td>10000</td>\n",
       "      <td>Gita Ginara</td>\n",
       "      <td>Gita</td>\n",
       "      <td>General Trade</td>\n",
       "      <td>-6.966667</td>\n",
       "      <td>110.416664</td>\n",
       "    </tr>\n",
       "  </tbody>\n",
       "</table>\n",
       "</div>"
      ],
      "text/plain": [
       "     TransactionID  CustomerID       Date ProductID  Price_x  Qty  \\\n",
       "0          TR11369         328 2022-01-01        P3     7500    4   \n",
       "1311       TR99839         123 2022-01-01        P2     3200    6   \n",
       "434        TR67455          49 2022-01-01        P5     4200    3   \n",
       "1275       TR16356         165 2022-01-01        P9    10000    7   \n",
       "4870       TR41231         386 2022-01-01        P9    10000    1   \n",
       "\n",
       "      TotalAmount  StoreID  Age  Gender Marital Status  Income   Product Name  \\\n",
       "0           30000       12   36       0        Married   10.53       Crackers   \n",
       "1311        19200        1   34       0        Married    4.36  Ginger Candy    \n",
       "434         12600       13   44       1        Married   13.48       Thai Tea   \n",
       "1275        70000        1   44       1        Married   14.58        Yoghurt   \n",
       "4870        10000        4   33       0        Married    6.95        Yoghurt   \n",
       "\n",
       "      Price_y       StoreName GroupStore           Type  Latitude   Longitude  \n",
       "0        7500  Prestasi Utama   Prestasi  General Trade -2.990934  104.756554  \n",
       "1311     3200   Prima Tendean      Prima   Modern Trade -6.200000  106.816666  \n",
       "434      4200           Buana      Buana  General Trade -1.269160  116.825264  \n",
       "1275    10000   Prima Tendean      Prima   Modern Trade -6.200000  106.816666  \n",
       "4870    10000     Gita Ginara       Gita  General Trade -6.966667  110.416664  "
      ]
     },
     "execution_count": 4,
     "metadata": {},
     "output_type": "execute_result"
    }
   ],
   "source": [
    "# Menggabungkan 4 tabel menjadi 1 dataframe\n",
    "df = pd.merge(transaksi, customer, on = 'CustomerID', how = 'inner')\n",
    "df = pd.merge(df, produk, on = 'ProductID', how = 'inner')\n",
    "df = pd.merge(df, store, on = 'StoreID', how = 'inner')\n",
    "\n",
    "# mengubah kolom Date menjadi tipe date\n",
    "df['Date']=pd.to_datetime(df['Date'])\n",
    "\n",
    "# mengurutkan dataset berdasarkan Date\n",
    "df.sort_values(by=['Date'], inplace=True)\n",
    "\n",
    "df.head()"
   ]
  },
  {
   "cell_type": "code",
   "execution_count": 5,
   "id": "d03f6a2a",
   "metadata": {},
   "outputs": [
    {
     "name": "stdout",
     "output_type": "stream",
     "text": [
      "<class 'pandas.core.frame.DataFrame'>\n",
      "Int64Index: 5020 entries, 0 to 2417\n",
      "Data columns (total 19 columns):\n",
      " #   Column          Non-Null Count  Dtype         \n",
      "---  ------          --------------  -----         \n",
      " 0   TransactionID   5020 non-null   object        \n",
      " 1   CustomerID      5020 non-null   int64         \n",
      " 2   Date            5020 non-null   datetime64[ns]\n",
      " 3   ProductID       5020 non-null   object        \n",
      " 4   Price_x         5020 non-null   int64         \n",
      " 5   Qty             5020 non-null   int64         \n",
      " 6   TotalAmount     5020 non-null   int64         \n",
      " 7   StoreID         5020 non-null   int64         \n",
      " 8   Age             5020 non-null   int64         \n",
      " 9   Gender          5020 non-null   int64         \n",
      " 10  Marital Status  4976 non-null   object        \n",
      " 11  Income          5020 non-null   float64       \n",
      " 12  Product Name    5020 non-null   object        \n",
      " 13  Price_y         5020 non-null   int64         \n",
      " 14  StoreName       5020 non-null   object        \n",
      " 15  GroupStore      5020 non-null   object        \n",
      " 16  Type            5020 non-null   object        \n",
      " 17  Latitude        5020 non-null   float64       \n",
      " 18  Longitude       5020 non-null   float64       \n",
      "dtypes: datetime64[ns](1), float64(3), int64(8), object(7)\n",
      "memory usage: 784.4+ KB\n"
     ]
    }
   ],
   "source": [
    "df.info()"
   ]
  },
  {
   "cell_type": "code",
   "execution_count": 6,
   "id": "fbf3c06e",
   "metadata": {},
   "outputs": [
    {
     "data": {
      "text/html": [
       "<div>\n",
       "<style scoped>\n",
       "    .dataframe tbody tr th:only-of-type {\n",
       "        vertical-align: middle;\n",
       "    }\n",
       "\n",
       "    .dataframe tbody tr th {\n",
       "        vertical-align: top;\n",
       "    }\n",
       "\n",
       "    .dataframe thead th {\n",
       "        text-align: right;\n",
       "    }\n",
       "</style>\n",
       "<table border=\"1\" class=\"dataframe\">\n",
       "  <thead>\n",
       "    <tr style=\"text-align: right;\">\n",
       "      <th></th>\n",
       "      <th>CustomerID</th>\n",
       "      <th>Price_x</th>\n",
       "      <th>Qty</th>\n",
       "      <th>TotalAmount</th>\n",
       "      <th>StoreID</th>\n",
       "      <th>Age</th>\n",
       "      <th>Gender</th>\n",
       "      <th>Income</th>\n",
       "      <th>Price_y</th>\n",
       "      <th>Latitude</th>\n",
       "      <th>Longitude</th>\n",
       "    </tr>\n",
       "  </thead>\n",
       "  <tbody>\n",
       "    <tr>\n",
       "      <th>count</th>\n",
       "      <td>5020.000000</td>\n",
       "      <td>5020.000000</td>\n",
       "      <td>5020.000000</td>\n",
       "      <td>5020.000000</td>\n",
       "      <td>5020.000000</td>\n",
       "      <td>5020.000000</td>\n",
       "      <td>5020.000000</td>\n",
       "      <td>5020.000000</td>\n",
       "      <td>5020.000000</td>\n",
       "      <td>5020.000000</td>\n",
       "      <td>5020.000000</td>\n",
       "    </tr>\n",
       "    <tr>\n",
       "      <th>mean</th>\n",
       "      <td>221.263745</td>\n",
       "      <td>9684.800797</td>\n",
       "      <td>3.644622</td>\n",
       "      <td>32279.482072</td>\n",
       "      <td>7.489841</td>\n",
       "      <td>40.003586</td>\n",
       "      <td>0.452988</td>\n",
       "      <td>8.659839</td>\n",
       "      <td>9684.800797</td>\n",
       "      <td>-2.942236</td>\n",
       "      <td>109.600789</td>\n",
       "    </tr>\n",
       "    <tr>\n",
       "      <th>std</th>\n",
       "      <td>129.672955</td>\n",
       "      <td>4600.708780</td>\n",
       "      <td>1.855295</td>\n",
       "      <td>19675.462455</td>\n",
       "      <td>4.028502</td>\n",
       "      <td>12.834719</td>\n",
       "      <td>0.497835</td>\n",
       "      <td>6.507063</td>\n",
       "      <td>4600.708780</td>\n",
       "      <td>4.323225</td>\n",
       "      <td>8.357593</td>\n",
       "    </tr>\n",
       "    <tr>\n",
       "      <th>min</th>\n",
       "      <td>1.000000</td>\n",
       "      <td>3200.000000</td>\n",
       "      <td>1.000000</td>\n",
       "      <td>7500.000000</td>\n",
       "      <td>1.000000</td>\n",
       "      <td>0.000000</td>\n",
       "      <td>0.000000</td>\n",
       "      <td>0.000000</td>\n",
       "      <td>3200.000000</td>\n",
       "      <td>-7.797068</td>\n",
       "      <td>95.323753</td>\n",
       "    </tr>\n",
       "    <tr>\n",
       "      <th>25%</th>\n",
       "      <td>108.000000</td>\n",
       "      <td>4200.000000</td>\n",
       "      <td>2.000000</td>\n",
       "      <td>16000.000000</td>\n",
       "      <td>4.000000</td>\n",
       "      <td>30.000000</td>\n",
       "      <td>0.000000</td>\n",
       "      <td>4.360000</td>\n",
       "      <td>4200.000000</td>\n",
       "      <td>-6.914864</td>\n",
       "      <td>104.756554</td>\n",
       "    </tr>\n",
       "    <tr>\n",
       "      <th>50%</th>\n",
       "      <td>221.000000</td>\n",
       "      <td>9400.000000</td>\n",
       "      <td>3.000000</td>\n",
       "      <td>28200.000000</td>\n",
       "      <td>7.000000</td>\n",
       "      <td>39.000000</td>\n",
       "      <td>0.000000</td>\n",
       "      <td>7.810000</td>\n",
       "      <td>9400.000000</td>\n",
       "      <td>-5.135399</td>\n",
       "      <td>110.370529</td>\n",
       "    </tr>\n",
       "    <tr>\n",
       "      <th>75%</th>\n",
       "      <td>332.000000</td>\n",
       "      <td>15000.000000</td>\n",
       "      <td>5.000000</td>\n",
       "      <td>47000.000000</td>\n",
       "      <td>11.000000</td>\n",
       "      <td>51.000000</td>\n",
       "      <td>1.000000</td>\n",
       "      <td>10.780000</td>\n",
       "      <td>15000.000000</td>\n",
       "      <td>0.533505</td>\n",
       "      <td>114.590111</td>\n",
       "    </tr>\n",
       "    <tr>\n",
       "      <th>max</th>\n",
       "      <td>447.000000</td>\n",
       "      <td>18000.000000</td>\n",
       "      <td>10.000000</td>\n",
       "      <td>88000.000000</td>\n",
       "      <td>14.000000</td>\n",
       "      <td>72.000000</td>\n",
       "      <td>1.000000</td>\n",
       "      <td>71.300000</td>\n",
       "      <td>18000.000000</td>\n",
       "      <td>5.548290</td>\n",
       "      <td>128.190643</td>\n",
       "    </tr>\n",
       "  </tbody>\n",
       "</table>\n",
       "</div>"
      ],
      "text/plain": [
       "        CustomerID       Price_x          Qty   TotalAmount      StoreID  \\\n",
       "count  5020.000000   5020.000000  5020.000000   5020.000000  5020.000000   \n",
       "mean    221.263745   9684.800797     3.644622  32279.482072     7.489841   \n",
       "std     129.672955   4600.708780     1.855295  19675.462455     4.028502   \n",
       "min       1.000000   3200.000000     1.000000   7500.000000     1.000000   \n",
       "25%     108.000000   4200.000000     2.000000  16000.000000     4.000000   \n",
       "50%     221.000000   9400.000000     3.000000  28200.000000     7.000000   \n",
       "75%     332.000000  15000.000000     5.000000  47000.000000    11.000000   \n",
       "max     447.000000  18000.000000    10.000000  88000.000000    14.000000   \n",
       "\n",
       "               Age       Gender       Income       Price_y     Latitude  \\\n",
       "count  5020.000000  5020.000000  5020.000000   5020.000000  5020.000000   \n",
       "mean     40.003586     0.452988     8.659839   9684.800797    -2.942236   \n",
       "std      12.834719     0.497835     6.507063   4600.708780     4.323225   \n",
       "min       0.000000     0.000000     0.000000   3200.000000    -7.797068   \n",
       "25%      30.000000     0.000000     4.360000   4200.000000    -6.914864   \n",
       "50%      39.000000     0.000000     7.810000   9400.000000    -5.135399   \n",
       "75%      51.000000     1.000000    10.780000  15000.000000     0.533505   \n",
       "max      72.000000     1.000000    71.300000  18000.000000     5.548290   \n",
       "\n",
       "         Longitude  \n",
       "count  5020.000000  \n",
       "mean    109.600789  \n",
       "std       8.357593  \n",
       "min      95.323753  \n",
       "25%     104.756554  \n",
       "50%     110.370529  \n",
       "75%     114.590111  \n",
       "max     128.190643  "
      ]
     },
     "execution_count": 6,
     "metadata": {},
     "output_type": "execute_result"
    }
   ],
   "source": [
    "df.describe()"
   ]
  },
  {
   "cell_type": "markdown",
   "id": "0cdba430",
   "metadata": {},
   "source": [
    "# Machine Learning Regression (Time Series)"
   ]
  },
  {
   "cell_type": "markdown",
   "id": "9b94859d",
   "metadata": {},
   "source": [
    "Pada tahap ini akan dilakukan pemodelan untuk memprediksi jumlah quantity harian pada dataset."
   ]
  },
  {
   "cell_type": "code",
   "execution_count": 7,
   "id": "34a49617",
   "metadata": {},
   "outputs": [
    {
     "data": {
      "text/html": [
       "<div>\n",
       "<style scoped>\n",
       "    .dataframe tbody tr th:only-of-type {\n",
       "        vertical-align: middle;\n",
       "    }\n",
       "\n",
       "    .dataframe tbody tr th {\n",
       "        vertical-align: top;\n",
       "    }\n",
       "\n",
       "    .dataframe thead th {\n",
       "        text-align: right;\n",
       "    }\n",
       "</style>\n",
       "<table border=\"1\" class=\"dataframe\">\n",
       "  <thead>\n",
       "    <tr style=\"text-align: right;\">\n",
       "      <th></th>\n",
       "      <th>Qty</th>\n",
       "    </tr>\n",
       "    <tr>\n",
       "      <th>Date</th>\n",
       "      <th></th>\n",
       "    </tr>\n",
       "  </thead>\n",
       "  <tbody>\n",
       "    <tr>\n",
       "      <th>2022-01-01</th>\n",
       "      <td>49</td>\n",
       "    </tr>\n",
       "    <tr>\n",
       "      <th>2022-01-02</th>\n",
       "      <td>50</td>\n",
       "    </tr>\n",
       "    <tr>\n",
       "      <th>2022-01-03</th>\n",
       "      <td>76</td>\n",
       "    </tr>\n",
       "    <tr>\n",
       "      <th>2022-01-04</th>\n",
       "      <td>98</td>\n",
       "    </tr>\n",
       "    <tr>\n",
       "      <th>2022-01-05</th>\n",
       "      <td>67</td>\n",
       "    </tr>\n",
       "    <tr>\n",
       "      <th>...</th>\n",
       "      <td>...</td>\n",
       "    </tr>\n",
       "    <tr>\n",
       "      <th>2022-12-27</th>\n",
       "      <td>70</td>\n",
       "    </tr>\n",
       "    <tr>\n",
       "      <th>2022-12-28</th>\n",
       "      <td>68</td>\n",
       "    </tr>\n",
       "    <tr>\n",
       "      <th>2022-12-29</th>\n",
       "      <td>42</td>\n",
       "    </tr>\n",
       "    <tr>\n",
       "      <th>2022-12-30</th>\n",
       "      <td>44</td>\n",
       "    </tr>\n",
       "    <tr>\n",
       "      <th>2022-12-31</th>\n",
       "      <td>37</td>\n",
       "    </tr>\n",
       "  </tbody>\n",
       "</table>\n",
       "<p>365 rows × 1 columns</p>\n",
       "</div>"
      ],
      "text/plain": [
       "            Qty\n",
       "Date           \n",
       "2022-01-01   49\n",
       "2022-01-02   50\n",
       "2022-01-03   76\n",
       "2022-01-04   98\n",
       "2022-01-05   67\n",
       "...         ...\n",
       "2022-12-27   70\n",
       "2022-12-28   68\n",
       "2022-12-29   42\n",
       "2022-12-30   44\n",
       "2022-12-31   37\n",
       "\n",
       "[365 rows x 1 columns]"
      ]
     },
     "execution_count": 7,
     "metadata": {},
     "output_type": "execute_result"
    }
   ],
   "source": [
    "# menghitung quantity harian berdasarkan Date\n",
    "jumlah_qty_harian = df.groupby(\"Date\")[\"Qty\"].sum()\n",
    "jumlah_qty_harian = pd.DataFrame(jumlah_qty_harian)\n",
    "jumlah_qty_harian"
   ]
  },
  {
   "cell_type": "markdown",
   "id": "e8388f1b",
   "metadata": {},
   "source": [
    "Setelah dilakukan agregasi pada kolom Qty terhadap Date diperoleh 365 raw data yang akan digunakan dalam pemodelan."
   ]
  },
  {
   "cell_type": "code",
   "execution_count": 8,
   "id": "2366be38",
   "metadata": {},
   "outputs": [
    {
     "data": {
      "text/plain": [
       "<AxesSubplot:xlabel='Date'>"
      ]
     },
     "execution_count": 8,
     "metadata": {},
     "output_type": "execute_result"
    },
    {
     "data": {
      "image/png": "[encoded data removed]",
      "text/plain": [
       "<Figure size 1200x500 with 1 Axes>"
      ]
     },
     "metadata": {},
     "output_type": "display_data"
    }
   ],
   "source": [
    "# plot harian jumlah qty\n",
    "jumlah_qty_harian['Qty'].plot(figsize=(12,5))"
   ]
  },
  {
   "cell_type": "markdown",
   "id": "302eb6de",
   "metadata": {},
   "source": [
    "### Check for Stationarity"
   ]
  },
  {
   "cell_type": "markdown",
   "id": "65a142a5",
   "metadata": {},
   "source": [
    "Kemudian akan dilakukan pengecekan kestasioneran pada dataset menggunaka ADF."
   ]
  },
  {
   "cell_type": "code",
   "execution_count": 9,
   "id": "30bfb0f7",
   "metadata": {},
   "outputs": [],
   "source": [
    "def ad_test(dataset):\n",
    "    dftest = adfuller(dataset, autolag = 'AIC')\n",
    "    print(\"1. ADF : \", dftest[0])\n",
    "    print(\"2. P-Value : \", dftest[1])\n",
    "    print(\"3. Num of Lags : \", dftest[2])\n",
    "    print(\"4. Num of Observations Used For ADF Regression and Critical Values Calculation : \", dftest[3])\n",
    "    print(\"5. Critical Values : \")\n",
    "    for key, val in dftest[4].items():\n",
    "        print(\"\\t\", key, \":\", val)"
   ]
  },
  {
   "cell_type": "code",
   "execution_count": 10,
   "id": "32da2ef0",
   "metadata": {},
   "outputs": [
    {
     "name": "stdout",
     "output_type": "stream",
     "text": [
      "1. ADF :  -19.018782802299746\n",
      "2. P-Value :  0.0\n",
      "3. Num of Lags :  0\n",
      "4. Num of Observations Used For ADF Regression and Critical Values Calculation :  364\n",
      "5. Critical Values : \n",
      "\t 1% : -3.4484434475193777\n",
      "\t 5% : -2.869513170510808\n",
      "\t 10% : -2.571017574266393\n"
     ]
    }
   ],
   "source": [
    "ad_test(jumlah_qty_harian['Qty'])"
   ]
  },
  {
   "cell_type": "markdown",
   "id": "32e7761b",
   "metadata": {},
   "source": [
    "- Nilai ADF adalah -19.018782802299746. Nilai ini digunakan untuk menguji hipotesis nol bahwa deret waktu adalah non-stasioner. Semakin negatif nilai ADF, semakin besar kecenderungan untuk menerima hipotesis alternatif bahwa deret waktu adalah stasioner.\n",
    "- P-Value ini sama dengan nol. Karena P-Value sama dengan nol dan kurang dari alpha 5%, kita dapat menolak hipotesis nol dan menyimpulkan bahwa deret waktu adalah stasioner.\n",
    "- Jumlah lag yang digunakan dalam pengujian ADF adalah 0\n",
    "- Ada 364 observasi yang digunakan dalam perhitungan.\n",
    "- Nilai-nilai kritis adalah nilai-nilai ambang yang digunakan untuk membandingkan nilai ADF. Jika nilai ADF lebih negatif dari nilai-nilai kritis ini, maka kita dapat menolak hipotesis nol. Dalam hal ini, kita memiliki tiga nilai kritis yang sesuai dengan tingkat signifikansi 1%, 5%, dan 10%. Semua nilai-nilai kritis ini lebih negatif dari nilai ADF, yang menunjukkan bahwa deret waktu adalah stasioner.\n",
    "\n",
    "Berdasarkan hasil di atas, dapat disimpulkan bahwa deret waktu yang diuji adalah stasioner. Stasioneritas adalah salah satu asumsi penting dalam analisis deret waktu statistik, dan hasil ini menunjukkan bahwa kita dapat melanjutkan dengan analisis lebih lanjut menggunakan asumsi tersebut."
   ]
  },
  {
   "cell_type": "markdown",
   "id": "0161b0ac",
   "metadata": {},
   "source": [
    "### Split Data into Training and Testing"
   ]
  },
  {
   "cell_type": "markdown",
   "id": "0e261d18",
   "metadata": {},
   "source": [
    "Kemudian kita melakukan split data untuk membagi dataset menjadi data train dan test. Pada kasus ini, data train yang digunakan yaitu sebanyak 360 data dan data test sebanyak 5 data, karena diasumsikan akan dilakukan prediksi jumlah quantity harian pada jangka pendek sehingga data train yang digunakan untuk pelatihan menjadi lebih banyak."
   ]
  },
  {
   "cell_type": "code",
   "execution_count": 11,
   "id": "53170d3a",
   "metadata": {},
   "outputs": [
    {
     "name": "stdout",
     "output_type": "stream",
     "text": [
      "(365, 1)\n",
      "(360, 1) (5, 1)\n"
     ]
    }
   ],
   "source": [
    "# split dataset menjadi train dan test data\n",
    "print(jumlah_qty_harian.shape)\n",
    "train = jumlah_qty_harian.iloc[:-5]\n",
    "test = jumlah_qty_harian.iloc[-5:]\n",
    "print(train.shape, test.shape)"
   ]
  },
  {
   "cell_type": "code",
   "execution_count": 12,
   "id": "59d78cb4",
   "metadata": {},
   "outputs": [
    {
     "data": {
      "image/png": "[encoded data removed]",
      "text/plain": [
       "<Figure size 640x480 with 1 Axes>"
      ]
     },
     "metadata": {},
     "output_type": "display_data"
    }
   ],
   "source": [
    "plot_acf(jumlah_qty_harian, lags=20)\n",
    "plt.show()"
   ]
  },
  {
   "cell_type": "code",
   "execution_count": 13,
   "id": "91b9f84b",
   "metadata": {},
   "outputs": [
    {
     "data": {
      "image/png": "[encoded data removed]",
      "text/plain": [
       "<Figure size 640x480 with 1 Axes>"
      ]
     },
     "metadata": {},
     "output_type": "display_data"
    }
   ],
   "source": [
    "plot_pacf(jumlah_qty_harian, lags=20)\n",
    "plt.show()"
   ]
  },
  {
   "cell_type": "markdown",
   "id": "76d6b940",
   "metadata": {},
   "source": [
    "Terlihat dari plot acf maupun plot pacf lags yang melebihi dari garis kepercayaan hanya pada lag = 0."
   ]
  },
  {
   "cell_type": "markdown",
   "id": "6e37794e",
   "metadata": {},
   "source": [
    "### Figure Out Order for ARIMA Model"
   ]
  },
  {
   "cell_type": "code",
   "execution_count": 14,
   "id": "aeafac2f",
   "metadata": {},
   "outputs": [
    {
     "name": "stdout",
     "output_type": "stream",
     "text": [
      "Performing stepwise search to minimize aic\n",
      " ARIMA(2,0,2)(0,0,0)[0] intercept   : AIC=3058.238, Time=0.88 sec\n",
      " ARIMA(0,0,0)(0,0,0)[0] intercept   : AIC=3053.372, Time=0.03 sec\n",
      " ARIMA(1,0,0)(0,0,0)[0] intercept   : AIC=3055.371, Time=0.16 sec\n",
      " ARIMA(0,0,1)(0,0,0)[0] intercept   : AIC=3055.371, Time=0.25 sec\n",
      " ARIMA(0,0,0)(0,0,0)[0]             : AIC=3879.689, Time=0.03 sec\n",
      " ARIMA(1,0,1)(0,0,0)[0] intercept   : AIC=3057.367, Time=0.27 sec\n",
      "\n",
      "Best model:  ARIMA(0,0,0)(0,0,0)[0] intercept\n",
      "Total fit time: 1.633 seconds\n"
     ]
    },
    {
     "data": {
      "text/html": [
       "<table class=\"simpletable\">\n",
       "<caption>SARIMAX Results</caption>\n",
       "<tr>\n",
       "  <th>Dep. Variable:</th>           <td>y</td>        <th>  No. Observations:  </th>    <td>360</td>   \n",
       "</tr>\n",
       "<tr>\n",
       "  <th>Model:</th>                <td>SARIMAX</td>     <th>  Log Likelihood     </th> <td>-1524.686</td>\n",
       "</tr>\n",
       "<tr>\n",
       "  <th>Date:</th>            <td>Sun, 03 Sep 2023</td> <th>  AIC                </th> <td>3053.372</td> \n",
       "</tr>\n",
       "<tr>\n",
       "  <th>Time:</th>                <td>15:42:23</td>     <th>  BIC                </th> <td>3061.144</td> \n",
       "</tr>\n",
       "<tr>\n",
       "  <th>Sample:</th>             <td>01-01-2022</td>    <th>  HQIC               </th> <td>3056.462</td> \n",
       "</tr>\n",
       "<tr>\n",
       "  <th></th>                   <td>- 12-26-2022</td>   <th>                     </th>     <td> </td>    \n",
       "</tr>\n",
       "<tr>\n",
       "  <th>Covariance Type:</th>        <td>opg</td>       <th>                     </th>     <td> </td>    \n",
       "</tr>\n",
       "</table>\n",
       "<table class=\"simpletable\">\n",
       "<tr>\n",
       "      <td></td>         <th>coef</th>     <th>std err</th>      <th>z</th>      <th>P>|z|</th>  <th>[0.025</th>    <th>0.975]</th>  \n",
       "</tr>\n",
       "<tr>\n",
       "  <th>intercept</th> <td>   50.0972</td> <td>    0.946</td> <td>   52.953</td> <td> 0.000</td> <td>   48.243</td> <td>   51.951</td>\n",
       "</tr>\n",
       "<tr>\n",
       "  <th>sigma2</th>    <td>  279.3878</td> <td>   19.366</td> <td>   14.427</td> <td> 0.000</td> <td>  241.431</td> <td>  317.344</td>\n",
       "</tr>\n",
       "</table>\n",
       "<table class=\"simpletable\">\n",
       "<tr>\n",
       "  <th>Ljung-Box (L1) (Q):</th>     <td>0.00</td> <th>  Jarque-Bera (JB):  </th> <td>27.94</td>\n",
       "</tr>\n",
       "<tr>\n",
       "  <th>Prob(Q):</th>                <td>0.98</td> <th>  Prob(JB):          </th> <td>0.00</td> \n",
       "</tr>\n",
       "<tr>\n",
       "  <th>Heteroskedasticity (H):</th> <td>0.69</td> <th>  Skew:              </th> <td>0.60</td> \n",
       "</tr>\n",
       "<tr>\n",
       "  <th>Prob(H) (two-sided):</th>    <td>0.04</td> <th>  Kurtosis:          </th> <td>3.67</td> \n",
       "</tr>\n",
       "</table><br/><br/>Warnings:<br/>[1] Covariance matrix calculated using the outer product of gradients (complex-step)."
      ],
      "text/plain": [
       "<class 'statsmodels.iolib.summary.Summary'>\n",
       "\"\"\"\n",
       "                               SARIMAX Results                                \n",
       "==============================================================================\n",
       "Dep. Variable:                      y   No. Observations:                  360\n",
       "Model:                        SARIMAX   Log Likelihood               -1524.686\n",
       "Date:                Sun, 03 Sep 2023   AIC                           3053.372\n",
       "Time:                        15:42:23   BIC                           3061.144\n",
       "Sample:                    01-01-2022   HQIC                          3056.462\n",
       "                         - 12-26-2022                                         \n",
       "Covariance Type:                  opg                                         \n",
       "==============================================================================\n",
       "                 coef    std err          z      P>|z|      [0.025      0.975]\n",
       "------------------------------------------------------------------------------\n",
       "intercept     50.0972      0.946     52.953      0.000      48.243      51.951\n",
       "sigma2       279.3878     19.366     14.427      0.000     241.431     317.344\n",
       "===================================================================================\n",
       "Ljung-Box (L1) (Q):                   0.00   Jarque-Bera (JB):                27.94\n",
       "Prob(Q):                              0.98   Prob(JB):                         0.00\n",
       "Heteroskedasticity (H):               0.69   Skew:                             0.60\n",
       "Prob(H) (two-sided):                  0.04   Kurtosis:                         3.67\n",
       "===================================================================================\n",
       "\n",
       "Warnings:\n",
       "[1] Covariance matrix calculated using the outer product of gradients (complex-step).\n",
       "\"\"\""
      ]
     },
     "execution_count": 14,
     "metadata": {},
     "output_type": "execute_result"
    }
   ],
   "source": [
    "stepwise_fit = auto_arima(train['Qty'], trace=True, suppress_warnings=True)\n",
    "\n",
    "stepwise_fit.summary()"
   ]
  },
  {
   "cell_type": "markdown",
   "id": "cf7ad6f7",
   "metadata": {},
   "source": [
    "Model terbaik pada kasus ini adalah \"ARIMA(0,0,0)(0,0,0)[0] intercept\" dengan AIC sekitar 3053.372, ini berarti model tidak memiliki komponen AR, I, atau MA. AIC digunakan untuk membandingkan kualitas berbagai model statistik. Semakin rendah nilai AIC, semakin baik modelnya."
   ]
  },
  {
   "cell_type": "markdown",
   "id": "85c4c8cd",
   "metadata": {},
   "source": [
    "### Train the Model"
   ]
  },
  {
   "cell_type": "code",
   "execution_count": 15,
   "id": "462a0537",
   "metadata": {
    "scrolled": true
   },
   "outputs": [
    {
     "name": "stdout",
     "output_type": "stream",
     "text": [
      "                               SARIMAX Results                                \n",
      "==============================================================================\n",
      "Dep. Variable:                    Qty   No. Observations:                  360\n",
      "Model:                          ARIMA   Log Likelihood               -1524.686\n",
      "Date:                Sun, 03 Sep 2023   AIC                           3053.372\n",
      "Time:                        15:42:31   BIC                           3061.144\n",
      "Sample:                    01-01-2022   HQIC                          3056.462\n",
      "                         - 12-26-2022                                         \n",
      "Covariance Type:                  opg                                         \n",
      "==============================================================================\n",
      "                 coef    std err          z      P>|z|      [0.025      0.975]\n",
      "------------------------------------------------------------------------------\n",
      "const         50.0972      0.946     52.954      0.000      48.243      51.951\n",
      "sigma2       279.3849     19.365     14.427      0.000     241.429     317.340\n",
      "===================================================================================\n",
      "Ljung-Box (L1) (Q):                   0.00   Jarque-Bera (JB):                27.94\n",
      "Prob(Q):                              0.98   Prob(JB):                         0.00\n",
      "Heteroskedasticity (H):               0.69   Skew:                             0.60\n",
      "Prob(H) (two-sided):                  0.04   Kurtosis:                         3.67\n",
      "===================================================================================\n",
      "\n",
      "Warnings:\n",
      "[1] Covariance matrix calculated using the outer product of gradients (complex-step).\n"
     ]
    }
   ],
   "source": [
    "model = ARIMA(train['Qty'], order=(0,0,0))\n",
    "model = model.fit()\n",
    "\n",
    "# Tampilkan ringkasan model\n",
    "print(model.summary())"
   ]
  },
  {
   "cell_type": "markdown",
   "id": "5770754b",
   "metadata": {},
   "source": [
    "### Make Predictions on Test Set"
   ]
  },
  {
   "cell_type": "code",
   "execution_count": 16,
   "id": "47c39ca7",
   "metadata": {},
   "outputs": [
    {
     "data": {
      "text/plain": [
       "<AxesSubplot:xlabel='Date'>"
      ]
     },
     "execution_count": 16,
     "metadata": {},
     "output_type": "execute_result"
    },
    {
     "data": {
      "image/png": "[encoded data removed]",
      "text/plain": [
       "<Figure size 640x480 with 1 Axes>"
      ]
     },
     "metadata": {},
     "output_type": "display_data"
    }
   ],
   "source": [
    "start=len(train)\n",
    "end=len(train)+len(test)-1\n",
    "pred=model.predict(start=start,end=end,typ='levels').rename('ARIMA Predictions')\n",
    "pred.plot(legend=True)\n",
    "test['Qty'].plot(legend=True)"
   ]
  },
  {
   "cell_type": "markdown",
   "id": "e1c33d4b",
   "metadata": {},
   "source": [
    "Dari plot di atas terlihat bahwa model yang diperoleh yaitu ARIMA(0,0,0) belum bisa memprediksi jumlah quantity harian dengan baik, meskipun dari hasil pengujian diperoleh model ARIMA(0,0,0) merupakan model yang terbaik pada kasus ini."
   ]
  },
  {
   "cell_type": "code",
   "execution_count": 17,
   "id": "8b137a42",
   "metadata": {},
   "outputs": [
    {
     "data": {
      "text/plain": [
       "52.2"
      ]
     },
     "execution_count": 17,
     "metadata": {},
     "output_type": "execute_result"
    }
   ],
   "source": [
    "test['Qty'].mean()"
   ]
  },
  {
   "cell_type": "code",
   "execution_count": 18,
   "id": "91eebb0a",
   "metadata": {},
   "outputs": [
    {
     "name": "stdout",
     "output_type": "stream",
     "text": [
      "14.077702045840883\n"
     ]
    }
   ],
   "source": [
    "from sklearn.metrics import mean_squared_error\n",
    "from math import sqrt\n",
    "rmse = sqrt(mean_squared_error(pred, test['Qty']))\n",
    "print(rmse)"
   ]
  },
  {
   "cell_type": "code",
   "execution_count": 19,
   "id": "f5c0d2e5",
   "metadata": {},
   "outputs": [
    {
     "data": {
      "text/html": [
       "<div>\n",
       "<style scoped>\n",
       "    .dataframe tbody tr th:only-of-type {\n",
       "        vertical-align: middle;\n",
       "    }\n",
       "\n",
       "    .dataframe tbody tr th {\n",
       "        vertical-align: top;\n",
       "    }\n",
       "\n",
       "    .dataframe thead th {\n",
       "        text-align: right;\n",
       "    }\n",
       "</style>\n",
       "<table border=\"1\" class=\"dataframe\">\n",
       "  <thead>\n",
       "    <tr style=\"text-align: right;\">\n",
       "      <th></th>\n",
       "      <th>Qty</th>\n",
       "    </tr>\n",
       "    <tr>\n",
       "      <th>Date</th>\n",
       "      <th></th>\n",
       "    </tr>\n",
       "  </thead>\n",
       "  <tbody>\n",
       "    <tr>\n",
       "      <th>2022-12-27</th>\n",
       "      <td>70</td>\n",
       "    </tr>\n",
       "    <tr>\n",
       "      <th>2022-12-28</th>\n",
       "      <td>68</td>\n",
       "    </tr>\n",
       "    <tr>\n",
       "      <th>2022-12-29</th>\n",
       "      <td>42</td>\n",
       "    </tr>\n",
       "    <tr>\n",
       "      <th>2022-12-30</th>\n",
       "      <td>44</td>\n",
       "    </tr>\n",
       "    <tr>\n",
       "      <th>2022-12-31</th>\n",
       "      <td>37</td>\n",
       "    </tr>\n",
       "  </tbody>\n",
       "</table>\n",
       "</div>"
      ],
      "text/plain": [
       "            Qty\n",
       "Date           \n",
       "2022-12-27   70\n",
       "2022-12-28   68\n",
       "2022-12-29   42\n",
       "2022-12-30   44\n",
       "2022-12-31   37"
      ]
     },
     "execution_count": 19,
     "metadata": {},
     "output_type": "execute_result"
    }
   ],
   "source": [
    "model2 = ARIMA(jumlah_qty_harian['Qty'], order=(0,0,0))\n",
    "model2 = model2.fit()\n",
    "jumlah_qty_harian.tail()"
   ]
  },
  {
   "cell_type": "markdown",
   "id": "c192d08d",
   "metadata": {},
   "source": [
    "### For Future Dates"
   ]
  },
  {
   "cell_type": "markdown",
   "id": "53942ed1",
   "metadata": {},
   "source": [
    "Pada tahap ini dilakukan prediksi untuk 5 hari kedepan yaitu dari tanggal 31 Desember 2022 hingga 4 Januari 2023."
   ]
  },
  {
   "cell_type": "code",
   "execution_count": 20,
   "id": "b468d6c5",
   "metadata": {},
   "outputs": [
    {
     "name": "stdout",
     "output_type": "stream",
     "text": [
      "2022-12-31    50.126023\n",
      "2023-01-01    50.126023\n",
      "2023-01-02    50.126023\n",
      "2023-01-03    50.126023\n",
      "2023-01-04    50.126023\n",
      "Freq: D, Name: ARIMA Predictions, dtype: float64\n"
     ]
    }
   ],
   "source": [
    "index_future_dates = pd.date_range(start='2022-12-31', end='2023-01-04')\n",
    "pred = model2.predict(start=len(jumlah_qty_harian), end=len(jumlah_qty_harian)+4, type='levels').rename('ARIMA Predictions')\n",
    "pred.index = index_future_dates\n",
    "print(pred)"
   ]
  },
  {
   "cell_type": "code",
   "execution_count": 21,
   "id": "f3a99e3d",
   "metadata": {},
   "outputs": [
    {
     "data": {
      "text/plain": [
       "<AxesSubplot:>"
      ]
     },
     "execution_count": 21,
     "metadata": {},
     "output_type": "execute_result"
    },
    {
     "data": {
      "image/png": "[encoded data removed]",
      "text/plain": [
       "<Figure size 1200x500 with 1 Axes>"
      ]
     },
     "metadata": {},
     "output_type": "display_data"
    }
   ],
   "source": [
    "pred.plot(figsize=(12,5), legend=True)"
   ]
  },
  {
   "cell_type": "markdown",
   "id": "4ded71f2",
   "metadata": {},
   "source": [
    "Dari plot prediksi 5 hari selanjutnya, terlihat bahwa model memprediksi nilai yang sama pada 5 hari tersebut. Hal ini menunjukkan bahwa model yang digunakan pada projek ini yaitu model ARIMA(0,0,0) belum baik dalam memprediksi jumlah quantity harian."
   ]
  },
  {
   "cell_type": "markdown",
   "id": "d5b468dc",
   "metadata": {},
   "source": [
    "### Saran:\n",
    "Model Arima(0,0,0) belum bisa memprediksi dataset dengan baik, sehingga untuk penelitian selanjutnya dapat dicoba model time series lainnya untuk memprediksi jumlah quantity harian."
   ]
  },
  {
   "cell_type": "markdown",
   "id": "affbc1c3",
   "metadata": {},
   "source": [
    "# Machine Learning Clustering"
   ]
  },
  {
   "cell_type": "markdown",
   "id": "c0edfa42",
   "metadata": {},
   "source": [
    "Pada tahap ini akan dilakukan klastering."
   ]
  },
  {
   "cell_type": "code",
   "execution_count": 22,
   "id": "8c713c1f",
   "metadata": {},
   "outputs": [
    {
     "data": {
      "text/html": [
       "<div>\n",
       "<style scoped>\n",
       "    .dataframe tbody tr th:only-of-type {\n",
       "        vertical-align: middle;\n",
       "    }\n",
       "\n",
       "    .dataframe tbody tr th {\n",
       "        vertical-align: top;\n",
       "    }\n",
       "\n",
       "    .dataframe thead th {\n",
       "        text-align: right;\n",
       "    }\n",
       "</style>\n",
       "<table border=\"1\" class=\"dataframe\">\n",
       "  <thead>\n",
       "    <tr style=\"text-align: right;\">\n",
       "      <th></th>\n",
       "      <th>TransactionID</th>\n",
       "      <th>CustomerID</th>\n",
       "      <th>Date</th>\n",
       "      <th>ProductID</th>\n",
       "      <th>Price_x</th>\n",
       "      <th>Qty</th>\n",
       "      <th>TotalAmount</th>\n",
       "      <th>StoreID</th>\n",
       "      <th>Age</th>\n",
       "      <th>Gender</th>\n",
       "      <th>Marital Status</th>\n",
       "      <th>Income</th>\n",
       "      <th>Product Name</th>\n",
       "      <th>Price_y</th>\n",
       "      <th>StoreName</th>\n",
       "      <th>GroupStore</th>\n",
       "      <th>Type</th>\n",
       "      <th>Latitude</th>\n",
       "      <th>Longitude</th>\n",
       "    </tr>\n",
       "  </thead>\n",
       "  <tbody>\n",
       "    <tr>\n",
       "      <th>0</th>\n",
       "      <td>TR11369</td>\n",
       "      <td>328</td>\n",
       "      <td>2022-01-01</td>\n",
       "      <td>P3</td>\n",
       "      <td>7500</td>\n",
       "      <td>4</td>\n",
       "      <td>30000</td>\n",
       "      <td>12</td>\n",
       "      <td>36</td>\n",
       "      <td>0</td>\n",
       "      <td>Married</td>\n",
       "      <td>10.53</td>\n",
       "      <td>Crackers</td>\n",
       "      <td>7500</td>\n",
       "      <td>Prestasi Utama</td>\n",
       "      <td>Prestasi</td>\n",
       "      <td>General Trade</td>\n",
       "      <td>-2.990934</td>\n",
       "      <td>104.756554</td>\n",
       "    </tr>\n",
       "    <tr>\n",
       "      <th>1311</th>\n",
       "      <td>TR99839</td>\n",
       "      <td>123</td>\n",
       "      <td>2022-01-01</td>\n",
       "      <td>P2</td>\n",
       "      <td>3200</td>\n",
       "      <td>6</td>\n",
       "      <td>19200</td>\n",
       "      <td>1</td>\n",
       "      <td>34</td>\n",
       "      <td>0</td>\n",
       "      <td>Married</td>\n",
       "      <td>4.36</td>\n",
       "      <td>Ginger Candy</td>\n",
       "      <td>3200</td>\n",
       "      <td>Prima Tendean</td>\n",
       "      <td>Prima</td>\n",
       "      <td>Modern Trade</td>\n",
       "      <td>-6.200000</td>\n",
       "      <td>106.816666</td>\n",
       "    </tr>\n",
       "    <tr>\n",
       "      <th>434</th>\n",
       "      <td>TR67455</td>\n",
       "      <td>49</td>\n",
       "      <td>2022-01-01</td>\n",
       "      <td>P5</td>\n",
       "      <td>4200</td>\n",
       "      <td>3</td>\n",
       "      <td>12600</td>\n",
       "      <td>13</td>\n",
       "      <td>44</td>\n",
       "      <td>1</td>\n",
       "      <td>Married</td>\n",
       "      <td>13.48</td>\n",
       "      <td>Thai Tea</td>\n",
       "      <td>4200</td>\n",
       "      <td>Buana</td>\n",
       "      <td>Buana</td>\n",
       "      <td>General Trade</td>\n",
       "      <td>-1.269160</td>\n",
       "      <td>116.825264</td>\n",
       "    </tr>\n",
       "    <tr>\n",
       "      <th>1275</th>\n",
       "      <td>TR16356</td>\n",
       "      <td>165</td>\n",
       "      <td>2022-01-01</td>\n",
       "      <td>P9</td>\n",
       "      <td>10000</td>\n",
       "      <td>7</td>\n",
       "      <td>70000</td>\n",
       "      <td>1</td>\n",
       "      <td>44</td>\n",
       "      <td>1</td>\n",
       "      <td>Married</td>\n",
       "      <td>14.58</td>\n",
       "      <td>Yoghurt</td>\n",
       "      <td>10000</td>\n",
       "      <td>Prima Tendean</td>\n",
       "      <td>Prima</td>\n",
       "      <td>Modern Trade</td>\n",
       "      <td>-6.200000</td>\n",
       "      <td>106.816666</td>\n",
       "    </tr>\n",
       "    <tr>\n",
       "      <th>4870</th>\n",
       "      <td>TR41231</td>\n",
       "      <td>386</td>\n",
       "      <td>2022-01-01</td>\n",
       "      <td>P9</td>\n",
       "      <td>10000</td>\n",
       "      <td>1</td>\n",
       "      <td>10000</td>\n",
       "      <td>4</td>\n",
       "      <td>33</td>\n",
       "      <td>0</td>\n",
       "      <td>Married</td>\n",
       "      <td>6.95</td>\n",
       "      <td>Yoghurt</td>\n",
       "      <td>10000</td>\n",
       "      <td>Gita Ginara</td>\n",
       "      <td>Gita</td>\n",
       "      <td>General Trade</td>\n",
       "      <td>-6.966667</td>\n",
       "      <td>110.416664</td>\n",
       "    </tr>\n",
       "  </tbody>\n",
       "</table>\n",
       "</div>"
      ],
      "text/plain": [
       "     TransactionID  CustomerID       Date ProductID  Price_x  Qty  \\\n",
       "0          TR11369         328 2022-01-01        P3     7500    4   \n",
       "1311       TR99839         123 2022-01-01        P2     3200    6   \n",
       "434        TR67455          49 2022-01-01        P5     4200    3   \n",
       "1275       TR16356         165 2022-01-01        P9    10000    7   \n",
       "4870       TR41231         386 2022-01-01        P9    10000    1   \n",
       "\n",
       "      TotalAmount  StoreID  Age  Gender Marital Status  Income   Product Name  \\\n",
       "0           30000       12   36       0        Married   10.53       Crackers   \n",
       "1311        19200        1   34       0        Married    4.36  Ginger Candy    \n",
       "434         12600       13   44       1        Married   13.48       Thai Tea   \n",
       "1275        70000        1   44       1        Married   14.58        Yoghurt   \n",
       "4870        10000        4   33       0        Married    6.95        Yoghurt   \n",
       "\n",
       "      Price_y       StoreName GroupStore           Type  Latitude   Longitude  \n",
       "0        7500  Prestasi Utama   Prestasi  General Trade -2.990934  104.756554  \n",
       "1311     3200   Prima Tendean      Prima   Modern Trade -6.200000  106.816666  \n",
       "434      4200           Buana      Buana  General Trade -1.269160  116.825264  \n",
       "1275    10000   Prima Tendean      Prima   Modern Trade -6.200000  106.816666  \n",
       "4870    10000     Gita Ginara       Gita  General Trade -6.966667  110.416664  "
      ]
     },
     "execution_count": 22,
     "metadata": {},
     "output_type": "execute_result"
    }
   ],
   "source": [
    "df.head()"
   ]
  },
  {
   "cell_type": "code",
   "execution_count": 23,
   "id": "dd06a295",
   "metadata": {},
   "outputs": [
    {
     "data": {
      "text/html": [
       "<div>\n",
       "<style scoped>\n",
       "    .dataframe tbody tr th:only-of-type {\n",
       "        vertical-align: middle;\n",
       "    }\n",
       "\n",
       "    .dataframe tbody tr th {\n",
       "        vertical-align: top;\n",
       "    }\n",
       "\n",
       "    .dataframe thead th {\n",
       "        text-align: right;\n",
       "    }\n",
       "</style>\n",
       "<table border=\"1\" class=\"dataframe\">\n",
       "  <thead>\n",
       "    <tr style=\"text-align: right;\">\n",
       "      <th></th>\n",
       "      <th>CustomerID</th>\n",
       "      <th>TransactionID</th>\n",
       "      <th>Qty</th>\n",
       "      <th>TotalAmount</th>\n",
       "    </tr>\n",
       "  </thead>\n",
       "  <tbody>\n",
       "    <tr>\n",
       "      <th>0</th>\n",
       "      <td>1</td>\n",
       "      <td>17</td>\n",
       "      <td>60</td>\n",
       "      <td>623300</td>\n",
       "    </tr>\n",
       "    <tr>\n",
       "      <th>1</th>\n",
       "      <td>2</td>\n",
       "      <td>13</td>\n",
       "      <td>57</td>\n",
       "      <td>392300</td>\n",
       "    </tr>\n",
       "    <tr>\n",
       "      <th>2</th>\n",
       "      <td>3</td>\n",
       "      <td>15</td>\n",
       "      <td>56</td>\n",
       "      <td>446200</td>\n",
       "    </tr>\n",
       "    <tr>\n",
       "      <th>3</th>\n",
       "      <td>4</td>\n",
       "      <td>10</td>\n",
       "      <td>46</td>\n",
       "      <td>302500</td>\n",
       "    </tr>\n",
       "    <tr>\n",
       "      <th>4</th>\n",
       "      <td>5</td>\n",
       "      <td>7</td>\n",
       "      <td>27</td>\n",
       "      <td>268600</td>\n",
       "    </tr>\n",
       "    <tr>\n",
       "      <th>...</th>\n",
       "      <td>...</td>\n",
       "      <td>...</td>\n",
       "      <td>...</td>\n",
       "      <td>...</td>\n",
       "    </tr>\n",
       "    <tr>\n",
       "      <th>442</th>\n",
       "      <td>443</td>\n",
       "      <td>16</td>\n",
       "      <td>59</td>\n",
       "      <td>485100</td>\n",
       "    </tr>\n",
       "    <tr>\n",
       "      <th>443</th>\n",
       "      <td>444</td>\n",
       "      <td>18</td>\n",
       "      <td>62</td>\n",
       "      <td>577700</td>\n",
       "    </tr>\n",
       "    <tr>\n",
       "      <th>444</th>\n",
       "      <td>445</td>\n",
       "      <td>18</td>\n",
       "      <td>68</td>\n",
       "      <td>587200</td>\n",
       "    </tr>\n",
       "    <tr>\n",
       "      <th>445</th>\n",
       "      <td>446</td>\n",
       "      <td>11</td>\n",
       "      <td>42</td>\n",
       "      <td>423300</td>\n",
       "    </tr>\n",
       "    <tr>\n",
       "      <th>446</th>\n",
       "      <td>447</td>\n",
       "      <td>13</td>\n",
       "      <td>42</td>\n",
       "      <td>439300</td>\n",
       "    </tr>\n",
       "  </tbody>\n",
       "</table>\n",
       "<p>447 rows × 4 columns</p>\n",
       "</div>"
      ],
      "text/plain": [
       "     CustomerID  TransactionID  Qty  TotalAmount\n",
       "0             1             17   60       623300\n",
       "1             2             13   57       392300\n",
       "2             3             15   56       446200\n",
       "3             4             10   46       302500\n",
       "4             5              7   27       268600\n",
       "..          ...            ...  ...          ...\n",
       "442         443             16   59       485100\n",
       "443         444             18   62       577700\n",
       "444         445             18   68       587200\n",
       "445         446             11   42       423300\n",
       "446         447             13   42       439300\n",
       "\n",
       "[447 rows x 4 columns]"
      ]
     },
     "execution_count": 23,
     "metadata": {},
     "output_type": "execute_result"
    }
   ],
   "source": [
    "aggregated_data = df.groupby('CustomerID').agg({\n",
    "    'TransactionID': 'count',  # Menghitung jumlah transaksi\n",
    "    'Qty': 'sum',              # Menghitung jumlah qty\n",
    "    'TotalAmount': 'sum'       # Menghitung jumlah total amount\n",
    "}).reset_index()\n",
    "aggregated_data"
   ]
  },
  {
   "cell_type": "markdown",
   "id": "ae4fef05",
   "metadata": {},
   "source": [
    "### Menentukan jumlah klaster dengan elbow method"
   ]
  },
  {
   "cell_type": "code",
   "execution_count": 24,
   "id": "3388f7cf",
   "metadata": {},
   "outputs": [
    {
     "data": {
      "image/png": "[encoded data removed]",
      "text/plain": [
       "<Figure size 800x400 with 1 Axes>"
      ]
     },
     "metadata": {},
     "output_type": "display_data"
    }
   ],
   "source": [
    "# Elbow method\n",
    "inertia = []\n",
    "for k in range(1, 11):\n",
    "    kmeans = KMeans(n_clusters=k, random_state=42)\n",
    "    kmeans.fit(aggregated_data)\n",
    "    inertia.append(kmeans.inertia_)\n",
    "\n",
    "# Plot inersia terhadap jumlah cluster\n",
    "plt.figure(figsize=(8, 4))\n",
    "plt.plot(range(1, 11), inertia, marker='o', linestyle='--')\n",
    "plt.xlabel('Jumlah Cluster')\n",
    "plt.ylabel('Inersia')\n",
    "plt.title('Elbow Method untuk Penentuan Jumlah Cluster Optimal')\n",
    "plt.xticks(range(1, 11))\n",
    "plt.grid()\n",
    "plt.show()"
   ]
  },
  {
   "cell_type": "markdown",
   "id": "892332e6",
   "metadata": {},
   "source": [
    "Dari plot elbow method di atas terlihat bahwa dari klaster 1 hingga terjadi penurunan yang signifikan, kemudian dari klaster 3 menuju klaster 10 penurunan terjadi sedikit demi sedikit, sehingga dari hasil tersebut jumlah klaster yang akan digunakan pada projek ini yaitu 3 klaster."
   ]
  },
  {
   "cell_type": "markdown",
   "id": "1272d433",
   "metadata": {},
   "source": [
    "### KMeans Clustering"
   ]
  },
  {
   "cell_type": "code",
   "execution_count": 25,
   "id": "4b3ceded",
   "metadata": {},
   "outputs": [
    {
     "data": {
      "image/png": "[encoded data removed]",
      "text/plain": [
       "<Figure size 640x480 with 1 Axes>"
      ]
     },
     "metadata": {},
     "output_type": "display_data"
    },
    {
     "name": "stdout",
     "output_type": "stream",
     "text": [
      "     CustomerID  TransactionID  Qty  TotalAmount  Cluster\n",
      "0             1             17   60       623300        0\n",
      "1             2             13   57       392300        1\n",
      "2             3             15   56       446200        1\n",
      "3             4             10   46       302500        2\n",
      "4             5              7   27       268600        2\n",
      "..          ...            ...  ...          ...      ...\n",
      "442         443             16   59       485100        0\n",
      "443         444             18   62       577700        0\n",
      "444         445             18   68       587200        0\n",
      "445         446             11   42       423300        1\n",
      "446         447             13   42       439300        1\n",
      "\n",
      "[447 rows x 5 columns]\n"
     ]
    }
   ],
   "source": [
    "# Pilih jumlah cluster (K)\n",
    "k = 3\n",
    "\n",
    "# Buat model KMeans\n",
    "kmeans = KMeans(n_clusters=k, init='k-means++', random_state=0)\n",
    "\n",
    "# Latih model\n",
    "kmeans.fit(aggregated_data)\n",
    "\n",
    "# Dapatkan label cluster untuk setiap entitas\n",
    "labels = kmeans.labels_\n",
    "\n",
    "# Tambahkan label cluster ke dalam DataFrame\n",
    "aggregated_data['Cluster'] = labels\n",
    "\n",
    "# Visualisasi hasil clustering\n",
    "plt.scatter(aggregated_data['Qty'], aggregated_data['TotalAmount'], c=aggregated_data['Cluster'], cmap='rainbow')\n",
    "\n",
    "# plot the centroids\n",
    "plt.scatter(kmeans.cluster_centers_[:,2], kmeans.cluster_centers_[:,3], s=100, c='green', label='Centroids')\n",
    "\n",
    "plt.xlabel('Qty')\n",
    "plt.ylabel('TotalAmount')\n",
    "plt.title('KMeans Clustering')\n",
    "plt.show()\n",
    "\n",
    "# Menampilkan hasil clustering\n",
    "print(aggregated_data)"
   ]
  },
  {
   "cell_type": "markdown",
   "id": "80e8bc26",
   "metadata": {},
   "source": [
    "Data dibagi menjadi tiga kelompok berdasarkan kemiripan antara kolom Qty dan TotalAmount.\n",
    "\n",
    "**Klaster 1:** Kelompok pertama terdiri dari transaksi dengan jumlah barang (quantity) rendah dan total jumlah pembayaran (total amount) rendah. Ini dapat menggambarkan transaksi-transaksi kecil atau pembelian dengan jumlah yang kecil.\n",
    "\n",
    "**Klaster 2:** Kelompok kedua terdiri dari transaksi dengan jumlah barang (quantity) sedang dan total jumlah pembayaran (total amount) sedang. Ini bisa mencerminkan transaksi-transaksi menengah yang tidak terlalu besar atau kecil.\n",
    "\n",
    "**Klaster 3:** Kelompok ketiga berisi transaksi dengan jumlah barang (quantity) tinggi dan total jumlah pembayaran (total amount) tinggi. Ini dapat mencerminkan transaksi besar atau pembelian dalam jumlah besar.\n",
    "\n",
    "Dengan demikian, klasterisasi ini membantu memahami bagaimana transaksi dibagi berdasarkan volume barang dan total jumlah pembayaran. Ini dapat memberikan wawasan berharga dalam menganalisis pola pembelian atau transaksi pelanggan, dan dapat digunakan untuk mengidentifikasi segmen pelanggan atau tren pembelian tertentu. Klasterisasi juga dapat digunakan untuk pengelompokan data dalam rangka analisis lanjutan atau pengambilan keputusan bisnis."
   ]
  },
  {
   "cell_type": "code",
   "execution_count": null,
   "id": "a864e2d0",
   "metadata": {},
   "outputs": [],
   "source": []
  }
 ],
 "metadata": {
  "kernelspec": {
   "display_name": "Python 3 (ipykernel)",
   "language": "python",
   "name": "python3"
  },
  "language_info": {
   "codemirror_mode": {
    "name": "ipython",
    "version": 3
   },
   "file_extension": ".py",
   "mimetype": "text/x-python",
   "name": "python",
   "nbconvert_exporter": "python",
   "pygments_lexer": "ipython3",
   "version": "3.9.13"
  }
 },
 "nbformat": 4,
 "nbformat_minor": 5
}
